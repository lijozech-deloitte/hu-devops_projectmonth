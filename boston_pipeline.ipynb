<<<<<<< HEAD
{
 "cells": [
  {
   "cell_type": "code",
   "execution_count": null,
   "metadata": {},
   "outputs": [],
   "source": [
    "import kfp\n",
    "from kfp import dsl\n",
    "\n",
    "def preprocess_op():\n",
    "\n",
    "    return dsl.ContainerOp(\n",
    "        name='Preprocess Data',\n",
    "        image='lijozech12/boston_pipeline_images:preprocess',\n",
    "        arguments=[],\n",
    "        file_outputs={\n",
    "            'x_train': '/app/x_train.npy',\n",
    "            'x_test': '/app/x_test.npy',\n",
    "            'y_train': '/app/y_train.npy',\n",
    "            'y_test': '/app/y_test.npy',\n",
    "        }\n",
    "    )\n",
    "\n",
    "def train_op(x_train, y_train):\n",
    "\n",
    "    return dsl.ContainerOp(\n",
    "        name='Train Model',\n",
    "        image='lijozech12/boston_pipeline_images:train',\n",
    "        arguments=[\n",
    "            '--x_train', x_train,\n",
    "            '--y_train', y_train\n",
    "        ],\n",
    "        file_outputs={\n",
    "            'model': '/app/model.pkl'\n",
    "        }\n",
    "    )\n",
    "\n",
    "def test_op(x_test, y_test, model):\n",
    "\n",
    "    return dsl.ContainerOp(\n",
    "        name='Test Model',\n",
    "        image='lijozech12/boston_pipeline_images:test',\n",
    "        arguments=[\n",
    "            '--x_test', x_test,\n",
    "            '--y_test', y_test,\n",
    "            '--model', model\n",
    "        ],\n",
    "        file_outputs={\n",
    "            'mean_squared_error': '/app/output.txt'\n",
    "        }\n",
    "    )\n",
    "\n",
    "def deploy_model_op(model):\n",
    "\n",
    "    return dsl.ContainerOp(\n",
    "        name='Deploy Model',\n",
    "        image='lijozech12/boston_pipeline_images:deploy_model',\n",
    "        arguments=[\n",
    "            '--model', model\n",
    "        ]\n",
    "    )\n",
    "\n",
    "@dsl.pipeline(\n",
    "   name='Boston Housing Pipeline',\n",
    "   description='An example pipeline that trains and logs a regression model.'\n",
    ")\n",
    "def boston_pipeline():\n",
    "    _preprocess_op = preprocess_op()\n",
    "    \n",
    "    _train_op = train_op(\n",
    "        dsl.InputArgumentPath(_preprocess_op.outputs['x_train']),\n",
    "        dsl.InputArgumentPath(_preprocess_op.outputs['y_train'])\n",
    "    ).after(_preprocess_op)\n",
    "\n",
    "    _test_op = test_op(\n",
    "        dsl.InputArgumentPath(_preprocess_op.outputs['x_test']),\n",
    "        dsl.InputArgumentPath(_preprocess_op.outputs['y_test']),\n",
    "        dsl.InputArgumentPath(_train_op.outputs['model'])\n",
    "    ).after(_train_op)\n",
    "\n",
    "    deploy_model_op(\n",
    "        dsl.InputArgumentPath(_train_op.outputs['model'])\n",
    "    ).after(_test_op)\n",
    "\n",
    "kfp.compiler.Compiler().compile(\n",
    "    pipeline_func=boston_pipeline,\n",
    "    package_path='boston_pipeline.yaml')"
   ]
  }
 ],
 "metadata": {
  "language_info": {
   "name": "python"
  },
  "orig_nbformat": 4
 },
 "nbformat": 4,
 "nbformat_minor": 2
}
=======
import kfp
from kfp import dsl

def preprocess_op():

    return dsl.ContainerOp(
        name='Preprocess Data',
        image='lijozech12/boston_pipeline_images:preprocess',
        arguments=[],
        file_outputs={
            'x_train': '/app/x_train.npy',
            'x_test': '/app/x_test.npy',
            'y_train': '/app/y_train.npy',
            'y_test': '/app/y_test.npy',
        }
    )

def train_op(x_train, y_train):

    return dsl.ContainerOp(
        name='Train Model',
        image='lijozech12/boston_pipeline_images:train',
        arguments=[
            '--x_train', x_train,
            '--y_train', y_train
        ],
        file_outputs={
            'model': '/app/model.pkl'
        }
    )

def test_op(x_test, y_test, model):

    return dsl.ContainerOp(
        name='Test Model',
        image='lijozech12/boston_pipeline_images:test',
        arguments=[
            '--x_test', x_test,
            '--y_test', y_test,
            '--model', model
        ],
        file_outputs={
            'mean_squared_error': '/app/output.txt'
        }
    )

def deploy_model_op(model):

    return dsl.ContainerOp(
        name='Deploy Model',
        image='lijozech12/boston_pipeline_images:deploy_model',
        arguments=[
            '--model', model
        ]
    )

@dsl.pipeline(
   name='Boston Housing Pipeline',
   description='An example pipeline that trains and logs a regression model.'
)
def boston_pipeline():
    _preprocess_op = preprocess_op()
    
    _train_op = train_op(
        dsl.InputArgumentPath(_preprocess_op.outputs['x_train']),
        dsl.InputArgumentPath(_preprocess_op.outputs['y_train'])
    ).after(_preprocess_op)

    _test_op = test_op(
        dsl.InputArgumentPath(_preprocess_op.outputs['x_test']),
        dsl.InputArgumentPath(_preprocess_op.outputs['y_test']),
        dsl.InputArgumentPath(_train_op.outputs['model'])
    ).after(_train_op)

    deploy_model_op(
        dsl.InputArgumentPath(_train_op.outputs['model'])
    ).after(_test_op)

kfp.compiler.Compiler().compile(
    pipeline_func=boston_pipeline,
    package_path='boston_pipeline.yaml')
>>>>>>> 97b5ed7e5cb8bd462353223dc71e981ac434d4dd
